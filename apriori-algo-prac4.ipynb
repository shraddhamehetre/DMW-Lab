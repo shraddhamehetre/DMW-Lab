{
 "cells": [
  {
   "cell_type": "code",
   "execution_count": 1,
   "id": "5ba48523",
   "metadata": {},
   "outputs": [],
   "source": [
    "import pandas as pd\n",
    "import numpy as np\n",
    "import matplotlib.pyplot as plt"
   ]
  },
  {
   "cell_type": "code",
   "execution_count": 6,
   "id": "9f304bfa",
   "metadata": {},
   "outputs": [],
   "source": [
    "df1 = pd.read_csv(\"canteen.csv\",header=None)"
   ]
  },
  {
   "cell_type": "markdown",
   "id": "1a2c5b3c",
   "metadata": {},
   "source": []
  },
  {
   "cell_type": "code",
   "execution_count": 7,
   "id": "1364fe32",
   "metadata": {},
   "outputs": [
    {
     "data": {
      "text/html": [
       "<div>\n",
       "<style scoped>\n",
       "    .dataframe tbody tr th:only-of-type {\n",
       "        vertical-align: middle;\n",
       "    }\n",
       "\n",
       "    .dataframe tbody tr th {\n",
       "        vertical-align: top;\n",
       "    }\n",
       "\n",
       "    .dataframe thead th {\n",
       "        text-align: right;\n",
       "    }\n",
       "</style>\n",
       "<table border=\"1\" class=\"dataframe\">\n",
       "  <thead>\n",
       "    <tr style=\"text-align: right;\">\n",
       "      <th></th>\n",
       "      <th>0</th>\n",
       "      <th>1</th>\n",
       "      <th>2</th>\n",
       "      <th>3</th>\n",
       "      <th>4</th>\n",
       "    </tr>\n",
       "  </thead>\n",
       "  <tbody>\n",
       "    <tr>\n",
       "      <th>0</th>\n",
       "      <td>Order_no.</td>\n",
       "      <td>item1</td>\n",
       "      <td>item2</td>\n",
       "      <td>item3</td>\n",
       "      <td>item4</td>\n",
       "    </tr>\n",
       "    <tr>\n",
       "      <th>1</th>\n",
       "      <td>1</td>\n",
       "      <td>Tea</td>\n",
       "      <td>Samosa</td>\n",
       "      <td>Sandwich</td>\n",
       "      <td>NaN</td>\n",
       "    </tr>\n",
       "    <tr>\n",
       "      <th>2</th>\n",
       "      <td>2</td>\n",
       "      <td>Samosa</td>\n",
       "      <td>Tea</td>\n",
       "      <td>Sandwich</td>\n",
       "      <td>Noodles</td>\n",
       "    </tr>\n",
       "    <tr>\n",
       "      <th>3</th>\n",
       "      <td>3</td>\n",
       "      <td>Samosa</td>\n",
       "      <td>Cold Coffee</td>\n",
       "      <td>French Fries</td>\n",
       "      <td>NaN</td>\n",
       "    </tr>\n",
       "    <tr>\n",
       "      <th>4</th>\n",
       "      <td>4</td>\n",
       "      <td>Pizza</td>\n",
       "      <td>Maggie</td>\n",
       "      <td>Samosa</td>\n",
       "      <td>Tea</td>\n",
       "    </tr>\n",
       "  </tbody>\n",
       "</table>\n",
       "</div>"
      ],
      "text/plain": [
       "           0       1             2              3         4\n",
       "0  Order_no.   item1         item2          item3     item4\n",
       "1          1     Tea        Samosa       Sandwich       NaN\n",
       "2          2  Samosa           Tea       Sandwich   Noodles\n",
       "3          3  Samosa   Cold Coffee   French Fries       NaN\n",
       "4          4   Pizza        Maggie         Samosa       Tea"
      ]
     },
     "execution_count": 7,
     "metadata": {},
     "output_type": "execute_result"
    }
   ],
   "source": [
    "df1.head()"
   ]
  },
  {
   "cell_type": "code",
   "execution_count": 8,
   "id": "db533d7c",
   "metadata": {},
   "outputs": [
    {
     "data": {
      "text/html": [
       "<div>\n",
       "<style scoped>\n",
       "    .dataframe tbody tr th:only-of-type {\n",
       "        vertical-align: middle;\n",
       "    }\n",
       "\n",
       "    .dataframe tbody tr th {\n",
       "        vertical-align: top;\n",
       "    }\n",
       "\n",
       "    .dataframe thead th {\n",
       "        text-align: right;\n",
       "    }\n",
       "</style>\n",
       "<table border=\"1\" class=\"dataframe\">\n",
       "  <thead>\n",
       "    <tr style=\"text-align: right;\">\n",
       "      <th></th>\n",
       "      <th>0</th>\n",
       "      <th>1</th>\n",
       "      <th>2</th>\n",
       "      <th>3</th>\n",
       "      <th>4</th>\n",
       "    </tr>\n",
       "  </thead>\n",
       "  <tbody>\n",
       "    <tr>\n",
       "      <th>16</th>\n",
       "      <td>16</td>\n",
       "      <td>Black Tea</td>\n",
       "      <td>Fried Maggie</td>\n",
       "      <td>Sandwich</td>\n",
       "      <td>NaN</td>\n",
       "    </tr>\n",
       "    <tr>\n",
       "      <th>17</th>\n",
       "      <td>17</td>\n",
       "      <td>Samosa</td>\n",
       "      <td>Fried Maggie</td>\n",
       "      <td>French Fries</td>\n",
       "      <td>NaN</td>\n",
       "    </tr>\n",
       "    <tr>\n",
       "      <th>18</th>\n",
       "      <td>18</td>\n",
       "      <td>Samosa</td>\n",
       "      <td>Black Tea</td>\n",
       "      <td>Fried Maggie</td>\n",
       "      <td>NaN</td>\n",
       "    </tr>\n",
       "    <tr>\n",
       "      <th>19</th>\n",
       "      <td>19</td>\n",
       "      <td>Samosa</td>\n",
       "      <td>Black Tea</td>\n",
       "      <td>Fried Maggie</td>\n",
       "      <td>NaN</td>\n",
       "    </tr>\n",
       "    <tr>\n",
       "      <th>20</th>\n",
       "      <td>20</td>\n",
       "      <td>Cold Coffee</td>\n",
       "      <td>Tea</td>\n",
       "      <td>Black Tea</td>\n",
       "      <td>Noodles</td>\n",
       "    </tr>\n",
       "  </tbody>\n",
       "</table>\n",
       "</div>"
      ],
      "text/plain": [
       "     0            1             2             3        4\n",
       "16  16    Black Tea  Fried Maggie      Sandwich      NaN\n",
       "17  17       Samosa  Fried Maggie  French Fries      NaN\n",
       "18  18       Samosa     Black Tea  Fried Maggie      NaN\n",
       "19  19       Samosa     Black Tea  Fried Maggie      NaN\n",
       "20  20  Cold Coffee           Tea     Black Tea  Noodles"
      ]
     },
     "execution_count": 8,
     "metadata": {},
     "output_type": "execute_result"
    }
   ],
   "source": [
    "df1.tail()"
   ]
  },
  {
   "cell_type": "code",
   "execution_count": 9,
   "id": "934ed7d5",
   "metadata": {},
   "outputs": [
    {
     "data": {
      "text/html": [
       "<div>\n",
       "<style scoped>\n",
       "    .dataframe tbody tr th:only-of-type {\n",
       "        vertical-align: middle;\n",
       "    }\n",
       "\n",
       "    .dataframe tbody tr th {\n",
       "        vertical-align: top;\n",
       "    }\n",
       "\n",
       "    .dataframe thead th {\n",
       "        text-align: right;\n",
       "    }\n",
       "</style>\n",
       "<table border=\"1\" class=\"dataframe\">\n",
       "  <thead>\n",
       "    <tr style=\"text-align: right;\">\n",
       "      <th></th>\n",
       "      <th>0</th>\n",
       "      <th>1</th>\n",
       "      <th>2</th>\n",
       "      <th>3</th>\n",
       "      <th>4</th>\n",
       "    </tr>\n",
       "  </thead>\n",
       "  <tbody>\n",
       "    <tr>\n",
       "      <th>count</th>\n",
       "      <td>21</td>\n",
       "      <td>21</td>\n",
       "      <td>21</td>\n",
       "      <td>20</td>\n",
       "      <td>8</td>\n",
       "    </tr>\n",
       "    <tr>\n",
       "      <th>unique</th>\n",
       "      <td>21</td>\n",
       "      <td>7</td>\n",
       "      <td>12</td>\n",
       "      <td>11</td>\n",
       "      <td>6</td>\n",
       "    </tr>\n",
       "    <tr>\n",
       "      <th>top</th>\n",
       "      <td>Order_no.</td>\n",
       "      <td>Samosa</td>\n",
       "      <td>Fried Maggie</td>\n",
       "      <td>Sandwich</td>\n",
       "      <td>Noodles</td>\n",
       "    </tr>\n",
       "    <tr>\n",
       "      <th>freq</th>\n",
       "      <td>1</td>\n",
       "      <td>9</td>\n",
       "      <td>4</td>\n",
       "      <td>5</td>\n",
       "      <td>3</td>\n",
       "    </tr>\n",
       "  </tbody>\n",
       "</table>\n",
       "</div>"
      ],
      "text/plain": [
       "                0       1             2         3        4\n",
       "count          21      21            21        20        8\n",
       "unique         21       7            12        11        6\n",
       "top     Order_no.  Samosa  Fried Maggie  Sandwich  Noodles\n",
       "freq            1       9             4         5        3"
      ]
     },
     "execution_count": 9,
     "metadata": {},
     "output_type": "execute_result"
    }
   ],
   "source": [
    "df1.describe()"
   ]
  },
  {
   "cell_type": "code",
   "execution_count": 10,
   "id": "b2050a1f",
   "metadata": {},
   "outputs": [
    {
     "name": "stdout",
     "output_type": "stream",
     "text": [
      "<class 'pandas.core.frame.DataFrame'>\n",
      "RangeIndex: 21 entries, 0 to 20\n",
      "Data columns (total 5 columns):\n",
      " #   Column  Non-Null Count  Dtype \n",
      "---  ------  --------------  ----- \n",
      " 0   0       21 non-null     object\n",
      " 1   1       21 non-null     object\n",
      " 2   2       21 non-null     object\n",
      " 3   3       20 non-null     object\n",
      " 4   4       8 non-null      object\n",
      "dtypes: object(5)\n",
      "memory usage: 968.0+ bytes\n"
     ]
    }
   ],
   "source": [
    "df1.info()"
   ]
  },
  {
   "cell_type": "code",
   "execution_count": 21,
   "id": "48536889",
   "metadata": {},
   "outputs": [],
   "source": [
    "transactions=[]\n",
    "for i in range(0,19):\n",
    "    transactions.append([str(df1.values[i,j]) for j in range(1,5)])"
   ]
  },
  {
   "cell_type": "code",
   "execution_count": 13,
   "id": "f3258528",
   "metadata": {},
   "outputs": [
    {
     "data": {
      "text/plain": [
       "[['Order_no.', 'item1'],\n",
       " ['1', 'Tea'],\n",
       " ['2', 'Samosa'],\n",
       " ['3', 'Samosa'],\n",
       " ['4', 'Pizza'],\n",
       " ['5', 'Maggie'],\n",
       " ['6', 'Samosa'],\n",
       " ['7', 'Maggie'],\n",
       " ['8', 'Maggie'],\n",
       " ['9', 'Pizza'],\n",
       " ['10', 'Samosa'],\n",
       " ['11', 'Black Tea'],\n",
       " ['12', 'Black Tea'],\n",
       " ['13', 'Black Tea'],\n",
       " ['14', 'Samosa'],\n",
       " ['15', 'Samosa'],\n",
       " ['16', 'Black Tea'],\n",
       " ['17', 'Samosa'],\n",
       " ['18', 'Samosa']]"
      ]
     },
     "execution_count": 13,
     "metadata": {},
     "output_type": "execute_result"
    }
   ],
   "source": [
    "transactions"
   ]
  },
  {
   "cell_type": "code",
   "execution_count": 14,
   "id": "257c098a",
   "metadata": {},
   "outputs": [
    {
     "data": {
      "text/plain": [
       "['Order_no.', 'item1']"
      ]
     },
     "execution_count": 14,
     "metadata": {},
     "output_type": "execute_result"
    }
   ],
   "source": [
    "transactions[0]"
   ]
  },
  {
   "cell_type": "code",
   "execution_count": 15,
   "id": "b84ebe22",
   "metadata": {},
   "outputs": [
    {
     "name": "stdout",
     "output_type": "stream",
     "text": [
      "Defaulting to user installation because normal site-packages is not writeable\n",
      "Requirement already satisfied: apyori in c:\\users\\sai\\appdata\\roaming\\python\\python39\\site-packages (1.1.2)\n",
      "Note: you may need to restart the kernel to use updated packages.\n"
     ]
    }
   ],
   "source": [
    "pip install apyori"
   ]
  },
  {
   "cell_type": "code",
   "execution_count": 16,
   "id": "330ffe0b",
   "metadata": {},
   "outputs": [],
   "source": [
    "from apyori import apriori"
   ]
  },
  {
   "cell_type": "code",
   "execution_count": 17,
   "id": "a5b6bb41",
   "metadata": {},
   "outputs": [],
   "source": [
    "association_rules = apriori(transactions,min_support=0.045,min_confidence=0.2,min_lift=3,min_length=2)\n",
    "association_results = list(association_rules) "
   ]
  },
  {
   "cell_type": "code",
   "execution_count": 18,
   "id": "89dfa808",
   "metadata": {},
   "outputs": [
    {
     "name": "stdout",
     "output_type": "stream",
     "text": [
      "11\n"
     ]
    }
   ],
   "source": [
    "print(len(association_results))"
   ]
  },
  {
   "cell_type": "code",
   "execution_count": 19,
   "id": "97f7d376",
   "metadata": {
    "scrolled": true
   },
   "outputs": [
    {
     "name": "stdout",
     "output_type": "stream",
     "text": [
      "3\n"
     ]
    }
   ],
   "source": [
    "print(len(association_results[0]))\n"
   ]
  },
  {
   "cell_type": "code",
   "execution_count": 20,
   "id": "5f09c4b3",
   "metadata": {},
   "outputs": [
    {
     "name": "stdout",
     "output_type": "stream",
     "text": [
      "Rule: 1 -> Tea\n",
      "Support: 0.05263157894736842\n",
      "Confidence: 1.0\n",
      "Lift: 19.0\n",
      "================================\n",
      "Rule: 11 -> Black Tea\n",
      "Support: 0.05263157894736842\n",
      "Confidence: 1.0\n",
      "Lift: 4.75\n",
      "================================\n",
      "Rule: 12 -> Black Tea\n",
      "Support: 0.05263157894736842\n",
      "Confidence: 1.0\n",
      "Lift: 4.75\n",
      "================================\n",
      "Rule: 13 -> Black Tea\n",
      "Support: 0.05263157894736842\n",
      "Confidence: 1.0\n",
      "Lift: 4.75\n",
      "================================\n",
      "Rule: 16 -> Black Tea\n",
      "Support: 0.05263157894736842\n",
      "Confidence: 1.0\n",
      "Lift: 4.75\n",
      "================================\n",
      "Rule: 4 -> Pizza\n",
      "Support: 0.05263157894736842\n",
      "Confidence: 1.0\n",
      "Lift: 9.5\n",
      "================================\n",
      "Rule: 5 -> Maggie\n",
      "Support: 0.05263157894736842\n",
      "Confidence: 1.0\n",
      "Lift: 6.333333333333334\n",
      "================================\n",
      "Rule: Maggie -> 7\n",
      "Support: 0.05263157894736842\n",
      "Confidence: 1.0\n",
      "Lift: 6.333333333333334\n",
      "================================\n",
      "Rule: Maggie -> 8\n",
      "Support: 0.05263157894736842\n",
      "Confidence: 1.0\n",
      "Lift: 6.333333333333334\n",
      "================================\n",
      "Rule: Pizza -> 9\n",
      "Support: 0.05263157894736842\n",
      "Confidence: 1.0\n",
      "Lift: 9.5\n",
      "================================\n",
      "Rule: Order_no. -> item1\n",
      "Support: 0.05263157894736842\n",
      "Confidence: 1.0\n",
      "Lift: 19.0\n",
      "================================\n"
     ]
    }
   ],
   "source": [
    "for item in association_results:\n",
    "    pair = item[0]\n",
    "    items = [x for x in pair]\n",
    "    print(\"Rule: \" + items[0] + \" -> \" + items[1])\n",
    "    print(\"Support: \" + str(item[1]))\n",
    "    print(\"Confidence: \" + str(item[2][0][2]))\n",
    "    print(\"Lift: \"+ str(item[2][0][3]))\n",
    "    print(\"================================\")"
   ]
  },
  {
   "cell_type": "code",
   "execution_count": null,
   "id": "8b25e0b6",
   "metadata": {},
   "outputs": [],
   "source": []
  }
 ],
 "metadata": {
  "kernelspec": {
   "display_name": "Python 3 (ipykernel)",
   "language": "python",
   "name": "python3"
  },
  "language_info": {
   "codemirror_mode": {
    "name": "ipython",
    "version": 3
   },
   "file_extension": ".py",
   "mimetype": "text/x-python",
   "name": "python",
   "nbconvert_exporter": "python",
   "pygments_lexer": "ipython3",
   "version": "3.9.12"
  }
 },
 "nbformat": 4,
 "nbformat_minor": 5
}
