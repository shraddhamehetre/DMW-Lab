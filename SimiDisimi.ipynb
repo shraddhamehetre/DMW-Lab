{
  "nbformat": 4,
  "nbformat_minor": 0,
  "metadata": {
    "colab": {
      "provenance": []
    },
    "kernelspec": {
      "name": "python3",
      "display_name": "Python 3"
    },
    "language_info": {
      "name": "python"
    }
  },
  "cells": [
    {
      "cell_type": "markdown",
      "source": [
        "Numeric similarity and dissimilarty"
      ],
      "metadata": {
        "id": "8oF9buOsii8n"
      }
    },
    {
      "cell_type": "code",
      "execution_count": 1,
      "metadata": {
        "colab": {
          "base_uri": "https://localhost:8080/"
        },
        "id": "SedqexsYhrx4",
        "outputId": "b9521cec-5a79-44b3-a5dc-f460eba860cc"
      },
      "outputs": [
        {
          "output_type": "stream",
          "name": "stdout",
          "text": [
            "9.746794344808963\n"
          ]
        }
      ],
      "source": [
        "from math import*"
      ]
    },
    {
      "cell_type": "markdown",
      "source": [
        "Euclidean distance"
      ],
      "metadata": {
        "id": "sxsjHfj5jquv"
      }
    },
    {
      "cell_type": "code",
      "source": [
        "#euclidean distance\n",
        "def euclidean_distance(x,y):\n",
        "    return sqrt(sum(pow(a-b,2) for a, b in zip(x, y)))"
      ],
      "metadata": {
        "id": "BVj4EXW5iXhq"
      },
      "execution_count": 2,
      "outputs": []
    },
    {
      "cell_type": "code",
      "source": [
        "print(euclidean_distance([0,3,4,5],[7,6,3,-1]))"
      ],
      "metadata": {
        "colab": {
          "base_uri": "https://localhost:8080/"
        },
        "id": "3FR2lYk_iYbR",
        "outputId": "4ee1c6c3-0369-4310-d79d-c1d8f187957d"
      },
      "execution_count": 3,
      "outputs": [
        {
          "output_type": "stream",
          "name": "stdout",
          "text": [
            "9.746794344808963\n"
          ]
        }
      ]
    },
    {
      "cell_type": "markdown",
      "source": [
        "Manhattan distance"
      ],
      "metadata": {
        "id": "ljgke0ccjwJA"
      }
    },
    {
      "cell_type": "code",
      "source": [
        "#manhattan distance\n",
        "def manhattan_distance(x,y):\n",
        "    return sum(abs(a-b) for a,b in zip(x,y))"
      ],
      "metadata": {
        "id": "Eyn-txexiQLJ"
      },
      "execution_count": 11,
      "outputs": []
    },
    {
      "cell_type": "code",
      "source": [
        "print(manhattan_distance([10,20,10],[10,20,20]))"
      ],
      "metadata": {
        "colab": {
          "base_uri": "https://localhost:8080/"
        },
        "id": "P_3zV__xj3UH",
        "outputId": "1a9de147-41cc-4858-ff4d-b22b0a6ced7c"
      },
      "execution_count": 12,
      "outputs": [
        {
          "output_type": "stream",
          "name": "stdout",
          "text": [
            "10\n"
          ]
        }
      ]
    },
    {
      "cell_type": "markdown",
      "source": [
        "Minkowski distance"
      ],
      "metadata": {
        "id": "fl0yCeYSj1pX"
      }
    },
    {
      "cell_type": "code",
      "source": [
        "#minkowski distance\n",
        "from decimal import Decimal\n",
        " \n",
        "def nth_root(value, n_root):\n",
        "    root_value = 1/float(n_root)\n",
        "    return round (Decimal(value) ** Decimal(root_value),3)\n",
        " \n",
        "def minkowski_distance(x,y,p_value):\n",
        "    return nth_root(sum(pow(abs(a-b),p_value) for a,b in zip(x, y)),p_value)"
      ],
      "metadata": {
        "id": "32DGThDzit33"
      },
      "execution_count": 5,
      "outputs": []
    },
    {
      "cell_type": "code",
      "source": [
        "print (minkowski_distance([0,3,4,5],[7,6,3,-1],3))    "
      ],
      "metadata": {
        "colab": {
          "base_uri": "https://localhost:8080/"
        },
        "id": "2eo-F-Dci-8n",
        "outputId": "4cce4121-5af1-41f0-c13e-c65b24627c1f"
      },
      "execution_count": 6,
      "outputs": [
        {
          "output_type": "stream",
          "name": "stdout",
          "text": [
            "8.373\n"
          ]
        }
      ]
    },
    {
      "cell_type": "markdown",
      "source": [
        "Cosine Similarity and dissimilarty"
      ],
      "metadata": {
        "id": "66mZb2KAj83X"
      }
    },
    {
      "cell_type": "code",
      "source": [
        "#Cosine\n",
        "def cosine_sim(x, y):\n",
        "    num = sum(a*b for a, b in zip(x, y))\n",
        "    enovx = sqrt(sum([a*a for a in x]))\n",
        "    enovy = sqrt(sum([a*a for a in y]))\n",
        "    denom = enovx*enovy\n",
        "    return (num/denom)\n",
        "print(cosine_sim([5, 2, 3], [4, 1, 6]))"
      ],
      "metadata": {
        "colab": {
          "base_uri": "https://localhost:8080/"
        },
        "id": "J6SG2yqXjTzA",
        "outputId": "7bf4afc6-a065-49e3-b1cc-9dcf10a3cde2"
      },
      "execution_count": 9,
      "outputs": [
        {
          "output_type": "stream",
          "name": "stdout",
          "text": [
            "0.8913130356431729\n"
          ]
        }
      ]
    },
    {
      "cell_type": "code",
      "source": [
        "#cosine similarity and dissimilarty\n",
        "def square_rooted(x):\n",
        "    return round(sqrt(sum([a*a for a in x])),3)\n",
        "def cosine_similarity(x,y):\n",
        "    numerator = sum(a*b for a,b in zip(x,y))\n",
        "    denominator = square_rooted(x)*square_rooted(y)\n",
        "    return round(numerator/float(denominator),3)"
      ],
      "metadata": {
        "id": "Gevl5mpji_ln"
      },
      "execution_count": 7,
      "outputs": []
    },
    {
      "cell_type": "code",
      "source": [
        "print(cosine_similarity([3, 45, 7, 2], [2, 54, 13, 15]))"
      ],
      "metadata": {
        "colab": {
          "base_uri": "https://localhost:8080/"
        },
        "id": "-z6vPqlJjGkX",
        "outputId": "d70c7d79-03ca-4668-de8d-bf9151ef01c0"
      },
      "execution_count": 10,
      "outputs": [
        {
          "output_type": "stream",
          "name": "stdout",
          "text": [
            "0.891\n"
          ]
        }
      ]
    },
    {
      "cell_type": "code",
      "source": [],
      "metadata": {
        "id": "dUL5qcGTjNUq"
      },
      "execution_count": null,
      "outputs": []
    }
  ]
}